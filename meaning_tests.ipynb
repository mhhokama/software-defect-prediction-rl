{
 "cells": [
  {
   "cell_type": "code",
   "execution_count": 2,
   "metadata": {},
   "outputs": [
    {
     "name": "stdout",
     "output_type": "stream",
     "text": [
      "Collecting statsmodels\n",
      "  Downloading statsmodels-0.14.4-cp311-cp311-win_amd64.whl.metadata (9.5 kB)\n",
      "Requirement already satisfied: numpy<3,>=1.22.3 in c:\\users\\user\\appdata\\local\\packages\\pythonsoftwarefoundation.python.3.11_qbz5n2kfra8p0\\localcache\\local-packages\\python311\\site-packages (from statsmodels) (1.26.3)\n",
      "Requirement already satisfied: scipy!=1.9.2,>=1.8 in c:\\users\\user\\appdata\\local\\packages\\pythonsoftwarefoundation.python.3.11_qbz5n2kfra8p0\\localcache\\local-packages\\python311\\site-packages (from statsmodels) (1.12.0)\n",
      "Requirement already satisfied: pandas!=2.1.0,>=1.4 in c:\\users\\user\\appdata\\local\\packages\\pythonsoftwarefoundation.python.3.11_qbz5n2kfra8p0\\localcache\\local-packages\\python311\\site-packages (from statsmodels) (2.2.0)\n",
      "Collecting patsy>=0.5.6 (from statsmodels)\n",
      "  Downloading patsy-0.5.6-py2.py3-none-any.whl.metadata (3.5 kB)\n",
      "Requirement already satisfied: packaging>=21.3 in c:\\users\\user\\appdata\\local\\packages\\pythonsoftwarefoundation.python.3.11_qbz5n2kfra8p0\\localcache\\local-packages\\python311\\site-packages (from statsmodels) (23.2)\n",
      "Requirement already satisfied: python-dateutil>=2.8.2 in c:\\users\\user\\appdata\\local\\packages\\pythonsoftwarefoundation.python.3.11_qbz5n2kfra8p0\\localcache\\local-packages\\python311\\site-packages (from pandas!=2.1.0,>=1.4->statsmodels) (2.8.2)\n",
      "Requirement already satisfied: pytz>=2020.1 in c:\\users\\user\\appdata\\local\\packages\\pythonsoftwarefoundation.python.3.11_qbz5n2kfra8p0\\localcache\\local-packages\\python311\\site-packages (from pandas!=2.1.0,>=1.4->statsmodels) (2023.3.post1)\n",
      "Requirement already satisfied: tzdata>=2022.7 in c:\\users\\user\\appdata\\local\\packages\\pythonsoftwarefoundation.python.3.11_qbz5n2kfra8p0\\localcache\\local-packages\\python311\\site-packages (from pandas!=2.1.0,>=1.4->statsmodels) (2023.4)\n",
      "Requirement already satisfied: six in c:\\users\\user\\appdata\\local\\packages\\pythonsoftwarefoundation.python.3.11_qbz5n2kfra8p0\\localcache\\local-packages\\python311\\site-packages (from patsy>=0.5.6->statsmodels) (1.16.0)\n",
      "Downloading statsmodels-0.14.4-cp311-cp311-win_amd64.whl (9.9 MB)\n",
      "   ---------------------------------------- 0.0/9.9 MB ? eta -:--:--\n",
      "   ---------------------------------------- 0.0/9.9 MB ? eta -:--:--\n",
      "   ---------------------------------------- 0.0/9.9 MB ? eta -:--:--\n",
      "   - -------------------------------------- 0.3/9.9 MB ? eta -:--:--\n",
      "   - -------------------------------------- 0.3/9.9 MB ? eta -:--:--\n",
      "   -- ------------------------------------- 0.5/9.9 MB 728.2 kB/s eta 0:00:13\n",
      "   --- ------------------------------------ 0.8/9.9 MB 780.2 kB/s eta 0:00:12\n",
      "   --- ------------------------------------ 0.8/9.9 MB 780.2 kB/s eta 0:00:12\n",
      "   ---- ----------------------------------- 1.0/9.9 MB 825.2 kB/s eta 0:00:11\n",
      "   ----- ---------------------------------- 1.3/9.9 MB 907.1 kB/s eta 0:00:10\n",
      "   ------ --------------------------------- 1.6/9.9 MB 975.2 kB/s eta 0:00:09\n",
      "   -------- ------------------------------- 2.1/9.9 MB 1.1 MB/s eta 0:00:08\n",
      "   --------- ------------------------------ 2.4/9.9 MB 1.1 MB/s eta 0:00:07\n",
      "   ---------- ----------------------------- 2.6/9.9 MB 1.2 MB/s eta 0:00:07\n",
      "   ------------ --------------------------- 3.1/9.9 MB 1.3 MB/s eta 0:00:06\n",
      "   ------------- -------------------------- 3.4/9.9 MB 1.3 MB/s eta 0:00:05\n",
      "   --------------- ------------------------ 3.9/9.9 MB 1.4 MB/s eta 0:00:05\n",
      "   ------------------ --------------------- 4.5/9.9 MB 1.4 MB/s eta 0:00:04\n",
      "   -------------------- ------------------- 5.0/9.9 MB 1.5 MB/s eta 0:00:04\n",
      "   ---------------------- ----------------- 5.5/9.9 MB 1.5 MB/s eta 0:00:03\n",
      "   ------------------------ --------------- 6.0/9.9 MB 1.6 MB/s eta 0:00:03\n",
      "   -------------------------- ------------- 6.6/9.9 MB 1.7 MB/s eta 0:00:02\n",
      "   ---------------------------- ----------- 7.1/9.9 MB 1.7 MB/s eta 0:00:02\n",
      "   ------------------------------ --------- 7.6/9.9 MB 1.8 MB/s eta 0:00:02\n",
      "   ------------------------------- -------- 7.9/9.9 MB 1.8 MB/s eta 0:00:02\n",
      "   ----------------------------------- ---- 8.7/9.9 MB 1.8 MB/s eta 0:00:01\n",
      "   ----------------------------------- ---- 8.7/9.9 MB 1.8 MB/s eta 0:00:01\n",
      "   -------------------------------------- - 9.4/9.9 MB 1.8 MB/s eta 0:00:01\n",
      "   ---------------------------------------  9.7/9.9 MB 1.8 MB/s eta 0:00:01\n",
      "   ---------------------------------------- 9.9/9.9 MB 1.8 MB/s eta 0:00:00\n",
      "Downloading patsy-0.5.6-py2.py3-none-any.whl (233 kB)\n",
      "Installing collected packages: patsy, statsmodels\n",
      "Successfully installed patsy-0.5.6 statsmodels-0.14.4\n"
     ]
    }
   ],
   "source": [
    "!pip install statsmodels"
   ]
  },
  {
   "cell_type": "code",
   "execution_count": 8,
   "metadata": {},
   "outputs": [
    {
     "name": "stdout",
     "output_type": "stream",
     "text": [
      "T-Statistic: -5.124999999999999\n",
      "P-Value: 0.0010837957366711115\n",
      "Cohen's d Effect Size: 1.9370679241722892\n",
      "Result: Setting A is statistically significantly better than Setting B (p < 0.05).\n",
      "Effect Size: Large\n"
     ]
    }
   ],
   "source": [
    "from scipy.stats import ttest_rel\n",
    "import numpy as np\n",
    "\n",
    "# New paired scores for Setting A and Setting B\n",
    "scores_A = [121, 119, 119, 117, 104, 110, 114]\n",
    "scores_B = [128, 124, 124, 124, 115, 115, 115]\n",
    "\n",
    "# Perform the paired t-test\n",
    "alpha = 0.05  # Significance level\n",
    "t_statistic, p_value = ttest_rel(scores_A, scores_B, alternative='less')\n",
    "\n",
    "# Calculate Cohen's d for effect size\n",
    "differences = np.array(scores_A) - np.array(scores_B)\n",
    "mean_diff = np.mean(differences)\n",
    "std_diff = np.std(differences, ddof=1)\n",
    "cohens_d = abs(mean_diff / std_diff)\n",
    "\n",
    "# Output the results\n",
    "print(\"T-Statistic:\", t_statistic)\n",
    "print(\"P-Value:\", p_value)\n",
    "print(\"Cohen's d Effect Size:\", cohens_d)\n",
    "\n",
    "# Interpretation\n",
    "if p_value < alpha:\n",
    "    print(\"Result: Setting A is statistically significantly better than Setting B (p < 0.05).\")\n",
    "else:\n",
    "    print(\"Result: No significant difference; Setting A is not meaningfully better than Setting B.\")\n",
    "\n",
    "# Effect size interpretation\n",
    "if cohens_d > 0.8:\n",
    "    print(\"Effect Size: Large\")\n",
    "elif cohens_d > 0.5:\n",
    "    print(\"Effect Size: Medium\")\n",
    "else:\n",
    "    print(\"Effect Size: Small\")\n"
   ]
  },
  {
   "cell_type": "code",
   "execution_count": null,
   "metadata": {},
   "outputs": [],
   "source": []
  }
 ],
 "metadata": {
  "kernelspec": {
   "display_name": "Python 3",
   "language": "python",
   "name": "python3"
  },
  "language_info": {
   "codemirror_mode": {
    "name": "ipython",
    "version": 3
   },
   "file_extension": ".py",
   "mimetype": "text/x-python",
   "name": "python",
   "nbconvert_exporter": "python",
   "pygments_lexer": "ipython3",
   "version": "3.11.9"
  }
 },
 "nbformat": 4,
 "nbformat_minor": 2
}
